{
 "cells": [
  {
   "cell_type": "markdown",
   "id": "82d815f7",
   "metadata": {},
   "source": [
    "# DO NOT CLEAR THE OUTPUT NEED TO TAKE A LOOK IF IT ACTUALLY WORKS"
   ]
  },
  {
   "cell_type": "code",
   "execution_count": 1,
   "id": "a5d366c0",
   "metadata": {},
   "outputs": [],
   "source": [
    "import random\n",
    "\n",
    "def OnePointCrossoverRecombination(Phenotypes, parentPairs, probability):\n",
    "        #probability = chance for each parent pair to create an offspring by crossover \n",
    "        #1 - probabilty = children will be copies of one of the parents\n",
    "        #returns a Phenotype\n",
    "        newGen = []\n",
    "        for i in range(0, len(parentPairs)):\n",
    "            rng = random.random()\n",
    "            if (rng > probability):\n",
    "                #crossover - we randomly copy one of the parents\n",
    "                whichParent = random.random()\n",
    "                if (whichParent > 0.5):\n",
    "                    #WE SHOULD APPLY MUTATIONS HERE\n",
    "                    newGen.append(Phenotypes[i])\n",
    "                else:\n",
    "                    #WE SHOULD APPLY MUTATIONS HERE\n",
    "                    newGen.append(Phenotypes[parentPairs[i]])\n",
    "            else: \n",
    "                #recombination - we take two parents, split them in a random point.\n",
    "                combined = []\n",
    "                length = min(len(Phenotypes[i]), len(Phenotypes[parentPairs[i]]))\n",
    "\n",
    "                splitPoint = random.randint(0, length)\n",
    "                for j in range(0, splitPoint):\n",
    "                    combined.append(Phenotypes[i][j])\n",
    "                for j in range(splitPoint, length):\n",
    "                    combined.append(Phenotypes[parentPairs[i]][j])\n",
    "\n",
    "                #WE SHOULD APPLY MUTATIONS HERE\n",
    "                newGen.append(combined)\n",
    "        return newGen\n",
    "\n"
   ]
  },
  {
   "cell_type": "code",
   "execution_count": 5,
   "id": "f1c30a39",
   "metadata": {},
   "outputs": [
    {
     "name": "stdout",
     "output_type": "stream",
     "text": [
      "[[(2047, 2), (0, 4), (1365, 7), (682, 3), (245, 5), (1922, 6), (1201, 3), (590, 1), (2017, 2), (30, 4), (1354, 6), (693, 7), (390, 3), (1657, 1), (1055, 5), (992, 0), (1526, 2), (521, 4), (376, 6), (1671, 3)]]\n"
     ]
    }
   ],
   "source": [
    "#Ran it like 15 times, now it seems to actually work\n",
    "\n",
    "phenotypes = [[\n",
    "    (0b11111111111, 2),\n",
    "    (0b00000000000, 4),\n",
    "    (0b10101010101, 7),\n",
    "    (0b01010101010, 3),\n",
    "    (0b00110011001, 1),\n",
    "    (0b11001100110, 5),\n",
    "    (0b10000000001, 6),\n",
    "    (0b01111111110, 0),\n",
    "    (0b11100011100, 2),\n",
    "    (0b00011100011, 4),\n",
    "    (0b00100100100, 6),\n",
    "    (0b11011011011, 1),\n",
    "    (0b10011001100, 3),\n",
    "    (0b01100110011, 7),\n",
    "    (0b00000011111, 5),\n",
    "    (0b11111000000, 0),\n",
    "    (0b10110110110, 2),\n",
    "    (0b01001001001, 4),\n",
    "    (0b00111110000, 6),\n",
    "    (0b11000001111, 3)\n",
    "], [\n",
    "    (0b11010101011, 4),\n",
    "    (0b00101100101, 2),\n",
    "    (0b10111011100, 7),\n",
    "    (0b01100011011, 0),\n",
    "    (0b00011110101, 5),\n",
    "    (0b11110000010, 6),\n",
    "    (0b10010110001, 3),\n",
    "    (0b01001001110, 1),\n",
    "    (0b11111100001, 2),\n",
    "    (0b00000011110, 4),\n",
    "    (0b10101001010, 6),\n",
    "    (0b01010110101, 7),\n",
    "    (0b00110000110, 3),\n",
    "    (0b11001111001, 1),\n",
    "    (0b10000011111, 5),\n",
    "    (0b01111100000, 0),\n",
    "    (0b10111110110, 2),\n",
    "    (0b01000001001, 4),\n",
    "    (0b00101111000, 6),\n",
    "    (0b11010000111, 3)\n",
    "]]\n",
    "\n",
    "probability = 0.7\n",
    "\n",
    "parentPairs = [1]\n",
    "\n",
    "out = OnePointCrossoverRecombination(phenotypes, parentPairs, probability)\n",
    "\n",
    "print(out)"
   ]
  },
  {
   "cell_type": "code",
   "execution_count": 22,
   "id": "55585bab",
   "metadata": {},
   "outputs": [
    {
     "name": "stdout",
     "output_type": "stream",
     "text": [
      "[(2047, 2), (0, 4), (1365, 7), (682, 3), (409, 1), (1638, 5), (1025, 6), (1022, 0), (1820, 2), (227, 4), (292, 6), (1755, 1), (1228, 3), (819, 7), (31, 5), (1984, 0), (1462, 2), (585, 4), (496, 6), (1551, 3)]\n",
      "[(2043, 2), (0, 4), (3417, 7), (554, 3), (953, 1), (1638, 5), (1033, 6), (2044, 0), (796, 2), (227, 4), (292, 6), (2771, 1), (1100, 3), (817, 7), (31, 5), (1920, 0), (1462, 2), (1643, 4), (240, 6), (527, 3)]\n"
     ]
    }
   ],
   "source": [
    "#this for sure works ok\n",
    "def BitFlipMutation(phenotype, probability): \n",
    "        new_phenotype = []\n",
    "        for i in range(0, len(phenotype)): #over blocks\n",
    "            newBin = 0b0\n",
    "            for j in range(phenotype[i][0].bit_length()): #over bits of a block\n",
    "                bit = (phenotype[i][0] >> j) & 1\n",
    "                rng = random.random()\n",
    "                if (rng < probability):\n",
    "                    bit ^= 1\n",
    "                newBin |= (bit << j)\n",
    "            if random.random() < probability: #since above mutation makes binary numbers smaller with many iterations, some chance to grow them\n",
    "                newBin |= (1 << phenotype[i][0].bit_length())\n",
    "            new_phenotype.append((newBin, phenotype[i][1]))\n",
    "        return new_phenotype\n",
    "\n",
    "\n",
    "print(phenotypes[0])\n",
    "print(BitFlipMutation(phenotypes[0], 0.1))\n",
    "\n"
   ]
  },
  {
   "cell_type": "code",
   "execution_count": null,
   "id": "f54157a2",
   "metadata": {},
   "outputs": [
    {
     "name": "stdout",
     "output_type": "stream",
     "text": [
      "[[(511, 2), (1, 4), (3413, 7), (938, 3), (408, 1), (994, 5), (1, 6), (1022, 0), (1804, 2), (227, 4), (292, 6), (1739, 1), (1229, 3), (819, 7), (31, 5), (1993, 0), (1526, 2), (521, 4), (120, 6), (1671, 3)]]\n"
     ]
    }
   ],
   "source": [
    "#parentPairs - array[idOfParent1] = idOfParent2\n",
    "def OnePointCrossoverRecombinationMutation(Phenotypes, parentPairs, probability):\n",
    "    #probability = chance for each parent pair to create an offspring by crossover \n",
    "    #1 - probabilty = children will be copies of one of the parents\n",
    "    #returns phenotypes\n",
    "    newGen = []\n",
    "    for i in range(0, len(parentPairs)):\n",
    "        rng = random.random()\n",
    "        if (rng > probability):\n",
    "            #crossover - we randomly copy one of the parents\n",
    "            whichParent = random.random()\n",
    "            if (whichParent > 0.5):\n",
    "                newOne = BitFlipMutation(Phenotypes[i], 0.1)\n",
    "                newGen.append(newOne)\n",
    "            else:\n",
    "                newOne = BitFlipMutation(Phenotypes[parentPairs[i]], 0.1)\n",
    "                newGen.append(newOne)\n",
    "        else: \n",
    "            #recombination - we take two parents, split them in a random point.\n",
    "            combined = []\n",
    "            length = min(len(Phenotypes[i]), len(Phenotypes[parentPairs[i]]))\n",
    "\n",
    "            splitPoint = random.randint(0, length)\n",
    "            for j in range(0, splitPoint):\n",
    "                combined.append(Phenotypes[i][j])\n",
    "            for j in range(splitPoint, length):\n",
    "                combined.append(Phenotypes[parentPairs[i]][j])\n",
    "\n",
    "            combined = BitFlipMutation(combined, 0.1)\n",
    "            newGen.append(combined)\n",
    "    return newGen\n",
    "\n",
    "out = OnePointCrossoverRecombinationMutation(phenotypes, parentPairs, probability)\n",
    "print(out)\n"
   ]
  }
 ],
 "metadata": {
  "kernelspec": {
   "display_name": "Python 3",
   "language": "python",
   "name": "python3"
  },
  "language_info": {
   "codemirror_mode": {
    "name": "ipython",
    "version": 3
   },
   "file_extension": ".py",
   "mimetype": "text/x-python",
   "name": "python",
   "nbconvert_exporter": "python",
   "pygments_lexer": "ipython3",
   "version": "3.12.3"
  }
 },
 "nbformat": 4,
 "nbformat_minor": 5
}
