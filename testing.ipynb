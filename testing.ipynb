{
 "cells": [
  {
   "cell_type": "markdown",
   "id": "82d815f7",
   "metadata": {},
   "source": [
    "# DO NOT CLEAR THE OUTPUT NEED TO TAKE A LOOK IF IT ACTUALLY WORKS"
   ]
  },
  {
   "cell_type": "code",
   "execution_count": 14,
   "id": "a5d366c0",
   "metadata": {},
   "outputs": [],
   "source": [
    "import random\n",
    "\n",
    "def OnePointCrossoverRecombination(Phenotypes, parentPairs, probability):\n",
    "        #probability = chance for each parent pair to create an offspring by crossover \n",
    "        #1 - probabilty = children will be copies of one of the parents\n",
    "        #returns a Phenotype\n",
    "        newGen = []\n",
    "        for i in range(0, len(parentPairs)):\n",
    "            rng = random.random()\n",
    "            if (rng > probability):\n",
    "                #crossover - we randomly copy one of the parents\n",
    "                whichParent = random.random()\n",
    "                if (whichParent > 0.5):\n",
    "                    #WE SHOULD APPLY MUTATIONS HERE\n",
    "                    newGen.append(Phenotypes[i])\n",
    "                else:\n",
    "                    #WE SHOULD APPLY MUTATIONS HERE\n",
    "                    newGen.append(Phenotypes[parentPairs[i]])\n",
    "            else: \n",
    "                #recombination - we take two parents, split them in a random point.\n",
    "                combined = []\n",
    "                length = min(len(Phenotypes[i]), len(Phenotypes[parentPairs[i]]))\n",
    "\n",
    "                splitPoint = random.randint(0, length)\n",
    "                for j in range(0, splitPoint):\n",
    "                    combined.append(Phenotypes[i][j])\n",
    "                for j in range(splitPoint, length):\n",
    "                    combined.append(Phenotypes[parentPairs[i]][j])\n",
    "\n",
    "                #WE SHOULD APPLY MUTATIONS HERE\n",
    "                newGen.append(combined)\n",
    "        return newGen\n",
    "\n"
   ]
  },
  {
   "cell_type": "code",
   "execution_count": null,
   "id": "f1c30a39",
   "metadata": {},
   "outputs": [
    {
     "name": "stdout",
     "output_type": "stream",
     "text": [
      "[[(2047, 2), (0, 4), (1365, 7), (682, 3), (409, 1), (1638, 5), (1025, 6), (1022, 0), (1820, 2), (227, 4), (292, 6), (693, 7), (390, 3), (1657, 1), (1055, 5), (992, 0), (1526, 2), (521, 4), (376, 6), (1671, 3)]]\n"
     ]
    }
   ],
   "source": [
    "#Ran it like 15 times, now it seems to actually work\n",
    "\n",
    "phenotypes = [[\n",
    "    (0b11111111111, 2),\n",
    "    (0b00000000000, 4),\n",
    "    (0b10101010101, 7),\n",
    "    (0b01010101010, 3),\n",
    "    (0b00110011001, 1),\n",
    "    (0b11001100110, 5),\n",
    "    (0b10000000001, 6),\n",
    "    (0b01111111110, 0),\n",
    "    (0b11100011100, 2),\n",
    "    (0b00011100011, 4),\n",
    "    (0b00100100100, 6),\n",
    "    (0b11011011011, 1),\n",
    "    (0b10011001100, 3),\n",
    "    (0b01100110011, 7),\n",
    "    (0b00000011111, 5),\n",
    "    (0b11111000000, 0),\n",
    "    (0b10110110110, 2),\n",
    "    (0b01001001001, 4),\n",
    "    (0b00111110000, 6),\n",
    "    (0b11000001111, 3)\n",
    "], [\n",
    "    (0b11010101011, 4),\n",
    "    (0b00101100101, 2),\n",
    "    (0b10111011100, 7),\n",
    "    (0b01100011011, 0),\n",
    "    (0b00011110101, 5),\n",
    "    (0b11110000010, 6),\n",
    "    (0b10010110001, 3),\n",
    "    (0b01001001110, 1),\n",
    "    (0b11111100001, 2),\n",
    "    (0b00000011110, 4),\n",
    "    (0b10101001010, 6),\n",
    "    (0b01010110101, 7),\n",
    "    (0b00110000110, 3),\n",
    "    (0b11001111001, 1),\n",
    "    (0b10000011111, 5),\n",
    "    (0b01111100000, 0),\n",
    "    (0b10111110110, 2),\n",
    "    (0b01000001001, 4),\n",
    "    (0b00101111000, 6),\n",
    "    (0b11010000111, 3)\n",
    "]]\n",
    "\n",
    "probability = 0.7\n",
    "\n",
    "parentPairs = [1]\n",
    "\n",
    "out = OnePointCrossoverRecombination(phenotypes, parentPairs, probability)\n",
    "\n",
    "print(out)"
   ]
  }
 ],
 "metadata": {
  "kernelspec": {
   "display_name": "Python 3",
   "language": "python",
   "name": "python3"
  },
  "language_info": {
   "codemirror_mode": {
    "name": "ipython",
    "version": 3
   },
   "file_extension": ".py",
   "mimetype": "text/x-python",
   "name": "python",
   "nbconvert_exporter": "python",
   "pygments_lexer": "ipython3",
   "version": "3.12.3"
  }
 },
 "nbformat": 4,
 "nbformat_minor": 5
}
