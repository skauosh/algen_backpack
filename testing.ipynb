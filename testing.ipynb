{
 "cells": [
  {
   "cell_type": "markdown",
   "id": "82d815f7",
   "metadata": {},
   "source": [
    "# DO NOT CLEAR THE OUTPUT NEED TO TAKE A LOOK IF IT ACTUALLY WORKS"
   ]
  },
  {
   "cell_type": "code",
   "execution_count": 37,
   "id": "a5d366c0",
   "metadata": {},
   "outputs": [],
   "source": [
    "import random\n",
    "\n",
    "def OnePointCrossoverRecombination(Phenotypes, parentPairs, probability):\n",
    "        newGen = []\n",
    "        for i in range(len(parentPairs)):\n",
    "            rng = random.random()\n",
    "            if (rng > probability):\n",
    "                whichParent = random.random()\n",
    "                if (whichParent > 0.5):\n",
    "                    print('CROSSOVER: parent passing: ' + bin(Phenotypes[i][0]))\n",
    "                    newGen.append(Phenotypes[i])\n",
    "                else:\n",
    "                    print('CROSSOVER: parent passing: ' + bin(Phenotypes[parentPairs[i]][0]))\n",
    "                    newGen.append(Phenotypes[parentPairs[i]])\n",
    "            else: \n",
    "                print('PARENTS LENGTHS: ' + str(Phenotypes[i][0].bit_length()) + ' ' + str(Phenotypes[parentPairs[i]][0].bit_length()))\n",
    "                length = min(Phenotypes[i][0].bit_length(), Phenotypes[parentPairs[i]][0].bit_length())\n",
    "                length = max(length, 3)\n",
    "                splitPoint = random.randint(1, length - 1)\n",
    "\n",
    "                print('RECOMBINATION: PARENTS: ' + bin(Phenotypes[i][0]) + ' ' + bin(Phenotypes[parentPairs[i]][0]))\n",
    "\n",
    "                binLeft = Phenotypes[i][0] >> (length - splitPoint)\n",
    "                binRight = Phenotypes[parentPairs[i]][0]  & ((1 << splitPoint) - 1)\n",
    "                combinedBin = (binLeft << splitPoint) | binRight\n",
    "\n",
    "                whichParentsType = random.random()\n",
    "                newGen.append((combinedBin, Phenotypes[i][1] if whichParentsType > 0.5 else Phenotypes[parentPairs[i]][1]))\n",
    "                print('RECOMBINED SPECIMEN: ' + bin(combinedBin))\n",
    "        return newGen\n"
   ]
  },
  {
   "cell_type": "code",
   "execution_count": 38,
   "id": "f1c30a39",
   "metadata": {},
   "outputs": [
    {
     "name": "stdout",
     "output_type": "stream",
     "text": [
      "CROSSOVER: parent passing: 0b11111111111\n",
      "PARENTS LENGTHS: 0 10\n",
      "RECOMBINATION: PARENTS: 0b0 0b1111111110\n",
      "RECOMBINED SPECIMEN: 0b0\n",
      "PARENTS LENGTHS: 11 5\n",
      "RECOMBINATION: PARENTS: 0b10101010101 0b11111\n",
      "RECOMBINED SPECIMEN: 0b101010101111\n",
      "PARENTS LENGTHS: 10 10\n",
      "RECOMBINATION: PARENTS: 0b1010101010 0b1001001001\n",
      "RECOMBINED SPECIMEN: 0b101010001001\n",
      "PARENTS LENGTHS: 9 11\n",
      "RECOMBINATION: PARENTS: 0b110011001 0b11100011100\n",
      "RECOMBINED SPECIMEN: 0b110011011100\n",
      "PARENTS LENGTHS: 11 9\n",
      "RECOMBINATION: PARENTS: 0b11001100110 0b111110000\n",
      "RECOMBINED SPECIMEN: 0b110011001111110000\n",
      "CROSSOVER: parent passing: 0b10011001100\n",
      "PARENTS LENGTHS: 10 11\n",
      "RECOMBINATION: PARENTS: 0b1111111110 0b11111000000\n",
      "RECOMBINED SPECIMEN: 0b1100\n",
      "CROSSOVER: parent passing: 0b11100011100\n",
      "PARENTS LENGTHS: 8 11\n",
      "RECOMBINATION: PARENTS: 0b11100011 0b11000001111\n",
      "RECOMBINED SPECIMEN: 0b11\n",
      "[(2047, 2), (0, 0), (2735, 7), (2697, 3), (3292, 2), (209904, 6), (1228, 3), (12, 0), (1820, 2), (3, 3)]\n"
     ]
    }
   ],
   "source": [
    "#of course the output is random so we can't really know for sure if it works\n",
    "\n",
    "phenotypes = [\n",
    "    (0b11111111111, 2),\n",
    "    (0b00000000000, 4),\n",
    "    (0b10101010101, 7),\n",
    "    (0b01010101010, 3),\n",
    "    (0b00110011001, 1),\n",
    "    (0b11001100110, 5),\n",
    "    (0b10000000001, 6),\n",
    "    (0b01111111110, 0),\n",
    "    (0b11100011100, 2),\n",
    "    (0b00011100011, 4),\n",
    "    (0b00100100100, 6),\n",
    "    (0b11011011011, 1),\n",
    "    (0b10011001100, 3),\n",
    "    (0b01100110011, 7),\n",
    "    (0b00000011111, 5),\n",
    "    (0b11111000000, 0),\n",
    "    (0b10110110110, 2),\n",
    "    (0b01001001001, 4),\n",
    "    (0b00111110000, 6),\n",
    "    (0b11000001111, 3)\n",
    "]\n",
    "\n",
    "probability = 0.7\n",
    "\n",
    "parentPairs = [12,7,14,17,8,18,12,15,16,19]\n",
    "\n",
    "out = OnePointCrossoverRecombination(phenotypes, parentPairs, probability)\n",
    "\n",
    "print(out)"
   ]
  }
 ],
 "metadata": {
  "kernelspec": {
   "display_name": "Python 3",
   "language": "python",
   "name": "python3"
  },
  "language_info": {
   "codemirror_mode": {
    "name": "ipython",
    "version": 3
   },
   "file_extension": ".py",
   "mimetype": "text/x-python",
   "name": "python",
   "nbconvert_exporter": "python",
   "pygments_lexer": "ipython3",
   "version": "3.12.3"
  }
 },
 "nbformat": 4,
 "nbformat_minor": 5
}
