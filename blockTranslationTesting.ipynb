{
 "cells": [
  {
   "cell_type": "code",
   "execution_count": 8,
   "id": "7acb00fb",
   "metadata": {},
   "outputs": [],
   "source": [
    "import numpy as np\n",
    "\n",
    "Dimensionality = 2\n",
    "rotationStride = 0 \n",
    "coordinatesStride =  (Dimensionality - 1)*2 \n",
    "\n",
    "class Block2:\n",
    "    def __init__(self, dim):\n",
    "        self.type = 0\n",
    "        self.rot = np.zeros((dim - 1,), dtype=int) \n",
    "        self.X = np.zeros((dim,), dtype=int)\n",
    "\n",
    "def __translateBlockToBinary(block):\n",
    "        binaryBlock = np.int64(0) #force 64 bit ints, max dimensionality is limited by this\n",
    "\n",
    "        for i in range( Dimensionality-1): #set single rotation bits\n",
    "            binaryBlock |= (block.rot[i] << 2*i) #i assume rotation is array,\n",
    "\n",
    "        for i in range( Dimensionality):\n",
    "            binaryBlock |= block.X[i] << ( coordinatesStride + (i*8))\n",
    "\n",
    "        return binaryBlock\n",
    "\n",
    "def __translateBinaryToBlock(blockInt64):\n",
    "    block = Block2( Dimensionality)\n",
    "    block.X = np.zeros( Dimensionality, dtype=np.uint8)\n",
    "    block.rot = np.zeros( Dimensionality-1, dtype=int)\n",
    "    block.isInside = 0\n",
    "\n",
    "    for i in range( Dimensionality - 1, -1, -1): #set single rotation bits\n",
    "        block.X[i] = (blockInt64 >>  coordinatesStride + (i*8) ) & 0xFF # &0xFF masks out bits leftover to the left\n",
    "\n",
    "    for i in range( Dimensionality - 2, -1, -1): #set single rotation bits\n",
    "        block.rot[i] = (blockInt64 >> (i*2)) & 0b11\n",
    "\n",
    "    return block"
   ]
  },
  {
   "cell_type": "code",
   "execution_count": null,
   "id": "a4bca3b9",
   "metadata": {},
   "outputs": [
    {
     "name": "stdout",
     "output_type": "stream",
     "text": [
      "Should give: 0b100000 0b1110001 0b10\n",
      "0b1000000111000110\n",
      "rot: 2\n",
      "X: 113\n"
     ]
    },
    {
     "ename": "AttributeError",
     "evalue": "'Block2' object has no attribute 'Y'",
     "output_type": "error",
     "traceback": [
      "\u001b[1;31m---------------------------------------------------------------------------\u001b[0m",
      "\u001b[1;31mAttributeError\u001b[0m                            Traceback (most recent call last)",
      "Cell \u001b[1;32mIn[12], line 12\u001b[0m\n\u001b[0;32m     10\u001b[0m \u001b[38;5;28mprint\u001b[39m(\u001b[38;5;124m\"\u001b[39m\u001b[38;5;124mrot: \u001b[39m\u001b[38;5;124m\"\u001b[39m \u001b[38;5;241m+\u001b[39m \u001b[38;5;28mstr\u001b[39m(b\u001b[38;5;241m.\u001b[39mrot[\u001b[38;5;241m0\u001b[39m]))\n\u001b[0;32m     11\u001b[0m \u001b[38;5;28mprint\u001b[39m(\u001b[38;5;124m\"\u001b[39m\u001b[38;5;124mX: \u001b[39m\u001b[38;5;124m\"\u001b[39m \u001b[38;5;241m+\u001b[39m \u001b[38;5;28mstr\u001b[39m(b\u001b[38;5;241m.\u001b[39mX[\u001b[38;5;241m0\u001b[39m]))\n\u001b[1;32m---> 12\u001b[0m \u001b[38;5;28mprint\u001b[39m(\u001b[38;5;124m\"\u001b[39m\u001b[38;5;124mY: \u001b[39m\u001b[38;5;124m\"\u001b[39m \u001b[38;5;241m+\u001b[39m \u001b[38;5;28mstr\u001b[39m(\u001b[43mb\u001b[49m\u001b[38;5;241;43m.\u001b[39;49m\u001b[43mY\u001b[49m[\u001b[38;5;241m0\u001b[39m]))\n",
      "\u001b[1;31mAttributeError\u001b[0m: 'Block2' object has no attribute 'Y'"
     ]
    }
   ],
   "source": [
    "a = Block2(2)\n",
    "a.rot[0] = 2\n",
    "a.X[0] = 113\n",
    "a.X[1] = 32\n",
    "\n",
    "print(\"Should give: \" + bin(32) + \" \" + bin(113) + \" \" + bin(2))\n",
    "print(bin(__translateBlockToBinary(a)))\n",
    "\n",
    "b = __translateBinaryToBlock(__translateBlockToBinary(a))\n",
    "print(\"rot: \" + str(b.rot[0]))\n",
    "print(\"X: \" + str(b.X[0]))\n",
    "print(\"Y: \" + str(b.X[1]))"
   ]
  }
 ],
 "metadata": {
  "kernelspec": {
   "display_name": "Python 3",
   "language": "python",
   "name": "python3"
  },
  "language_info": {
   "codemirror_mode": {
    "name": "ipython",
    "version": 3
   },
   "file_extension": ".py",
   "mimetype": "text/x-python",
   "name": "python",
   "nbconvert_exporter": "python",
   "pygments_lexer": "ipython3",
   "version": "3.12.3"
  }
 },
 "nbformat": 4,
 "nbformat_minor": 5
}
